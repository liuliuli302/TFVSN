{
 "cells": [
  {
   "cell_type": "code",
   "execution_count": 28,
   "metadata": {},
   "outputs": [],
   "source": [
    "import json\n",
    "from pathlib import Path\n",
    "import h5py\n",
    "import torch\n",
    "from torch.utils.data import Dataset, DataLoader\n",
    "from pprint import pprint\n",
    "from PIL import Image\n",
    "from dataloader.vs_dataset import VideoSummarizationDataset\n",
    "import numpy as np"
   ]
  },
  {
   "cell_type": "code",
   "execution_count": 29,
   "metadata": {},
   "outputs": [],
   "source": [
    "# dataset = VideoSummarizationDataset(\n",
    "#     root_path=\"/root/autodl-tmp/data\",\n",
    "#     dataset_name=\"SumMe\"\n",
    "# )\n",
    "# sample0 = dataset[0]\n",
    "# keys = sample0.keys()\n",
    "# dict_keys(['change_points', 'gtscore', 'gtsummary', 'n_frame_per_seg', 'n_frames', 'n_steps', 'picks', 'user_summary', 'frame_file_paths', 'video_name'])\n",
    "# pprint(len(sample0[\"picks\"]))"
   ]
  },
  {
   "cell_type": "code",
   "execution_count": 30,
   "metadata": {},
   "outputs": [
    {
     "name": "stdout",
     "output_type": "stream",
     "text": [
      "<class 'torch.Tensor'>\n",
      "torch.Size([708, 2560])\n"
     ]
    }
   ],
   "source": [
    "# 读取npy文件加载为tensor并查看维度\n",
    "data = np.load(\"/root/autodl-tmp/data/TVSum/features/text/-esJrBWj2d8_text.npy\")\n",
    "tensor_data = torch.tensor(data)\n",
    "print(type(tensor_data))\n",
    "print(tensor_data.shape)"
   ]
  }
 ],
 "metadata": {
  "kernelspec": {
   "display_name": "base",
   "language": "python",
   "name": "python3"
  },
  "language_info": {
   "codemirror_mode": {
    "name": "ipython",
    "version": 3
   },
   "file_extension": ".py",
   "mimetype": "text/x-python",
   "name": "python",
   "nbconvert_exporter": "python",
   "pygments_lexer": "ipython3",
   "version": "3.12.3"
  }
 },
 "nbformat": 4,
 "nbformat_minor": 2
}
