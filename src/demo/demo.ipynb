{
 "cells": [
  {
   "cell_type": "code",
   "execution_count": null,
   "metadata": {},
   "outputs": [],
   "source": [
    "from transformers import AutoModelForVision2Seq, AutoTokenizer, AutoImageProcessor, StoppingCriteria, AutoModel\n",
    "import torch\n",
    "model_name_or_path = \"Salesforce/xgen-mm-phi3-mini-instruct-interleave-r-v1.5\"\n",
    "# model_name_or_path = \"/home/allets/.cache/huggingface/hub/models--Salesforce--xgen-mm-phi3-mini-instruct-interleave-r-v1.5/snapshots/bc8b948bfee232a0fa8422134dd4375deaea0cc8\"\n",
    "model = AutoModelForVision2Seq.from_pretrained(model_name_or_path, trust_remote_code=True)\n",
    "# model = AutoModel.from_pretrained(model_name_or_path, trust_remote_code=True)\n",
    "tokenizer = AutoTokenizer.from_pretrained(model_name_or_path, trust_remote_code=True, use_fast=False, legacy=False)\n",
    "image_processor = AutoImageProcessor.from_pretrained(model_name_or_path, trust_remote_code=True)\n",
    "tokenizer = model.update_special_tokens(tokenizer)"
   ]
  },
  {
   "cell_type": "code",
   "execution_count": 10,
   "metadata": {},
   "outputs": [],
   "source": [
    "import json\n",
    "import PIL\n",
    "import textwrap\n",
    "import IPython.display as display\n",
    "from IPython.display import Image\n",
    "\n",
    "with open('./test_samples/test.json') as f:\n",
    "    data = json.load(f)\n",
    "def apply_prompt_template(prompt):\n",
    "    s = (\n",
    "                '<|system|>\\nA chat between a curious user and an artificial intelligence assistant. '\n",
    "                \"The assistant gives helpful, detailed, and polite answers to the user's questions.<|end|>\\n\"\n",
    "                f'<|user|>\\n{prompt}<|end|>\\n<|assistant|>\\n'\n",
    "            )\n",
    "    return s "
   ]
  },
  {
   "cell_type": "code",
   "execution_count": 11,
   "metadata": {},
   "outputs": [],
   "source": [
    "model = model.to('cuda')\n",
    "model.eval()\n",
    "tokenizer.padding_side = \"left\"\n",
    "tokenizer.eos_token = '<|end|>'"
   ]
  },
  {
   "cell_type": "code",
   "execution_count": null,
   "metadata": {},
   "outputs": [],
   "source": [
    "import os\n",
    "\n",
    "for sample in data:\n",
    "    image_list = []\n",
    "    image_sizes = []\n",
    "    for fn in sample['image_path']:\n",
    "        # fn = os.path.join('/export/home/manlis/xgen-mm-phi3-mini-instruct-r-v1.5', fn)\n",
    "        img = PIL.Image.open(fn)\n",
    "        display.display(Image(filename=fn, width=300))\n",
    "        image_list.append(image_processor([img], image_aspect_ratio='anyres')[\"pixel_values\"].cuda().bfloat16())\n",
    "        image_sizes.append(img.size)\n",
    "    inputs = {\n",
    "        \"pixel_values\": [image_list]\n",
    "    }\n",
    "    for query in sample['question']:\n",
    "        prompt = apply_prompt_template(query)\n",
    "        language_inputs = tokenizer([prompt], return_tensors=\"pt\")\n",
    "        inputs.update(language_inputs)\n",
    "        # To cuda\n",
    "        for name, value in inputs.items():\n",
    "            if isinstance(value, torch.Tensor):\n",
    "                inputs[name] = value.cuda()\n",
    "        generated_text = model.generate(**inputs, image_size=[image_sizes],\n",
    "                                        pad_token_id=tokenizer.pad_token_id,\n",
    "                                        eos_token_id=tokenizer.eos_token_id,\n",
    "                                        temperature=0.05,\n",
    "                                        do_sample=False, max_new_tokens=1024, top_p=None, num_beams=1,\n",
    "                                        )\n",
    "        prediction = tokenizer.decode(generated_text[0], skip_special_tokens=True).split(\"<|end|>\")[0]\n",
    "        print(\"User: \", query)\n",
    "        print(\"Assistant: \", textwrap.fill(prediction, width=100))\n",
    "    print(\"-\"*120)"
   ]
  }
 ],
 "metadata": {
  "kernelspec": {
   "display_name": "TFVSN",
   "language": "python",
   "name": "python3"
  },
  "language_info": {
   "codemirror_mode": {
    "name": "ipython",
    "version": 3
   },
   "file_extension": ".py",
   "mimetype": "text/x-python",
   "name": "python",
   "nbconvert_exporter": "python",
   "pygments_lexer": "ipython3",
   "version": "3.8.19"
  }
 },
 "nbformat": 4,
 "nbformat_minor": 2
}
