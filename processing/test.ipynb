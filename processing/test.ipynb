{
 "cells": [
  {
   "cell_type": "code",
   "execution_count": 1,
   "metadata": {},
   "outputs": [
    {
     "name": "stderr",
     "output_type": "stream",
     "text": [
      "/root/miniconda3/envs/myenv/lib/python3.12/site-packages/tqdm/auto.py:21: TqdmWarning: IProgress not found. Please update jupyter and ipywidgets. See https://ipywidgets.readthedocs.io/en/stable/user_install.html\n",
      "  from .autonotebook import tqdm as notebook_tqdm\n"
     ]
    }
   ],
   "source": [
    "from transformers import LlavaNextProcessor, LlavaNextForConditionalGeneration\n",
    "import torch\n",
    "from PIL import Image\n",
    "import requests\n",
    "from transformers import AutoProcessor, AutoModelForCausalLM"
   ]
  },
  {
   "cell_type": "code",
   "execution_count": 2,
   "metadata": {},
   "outputs": [
    {
     "name": "stderr",
     "output_type": "stream",
     "text": [
      "Some kwargs in processor config are unused and will not have any effect: num_additional_image_tokens. \n",
      "Loading checkpoint shards: 100%|██████████| 4/4 [00:00<00:00, 11.97it/s]\n"
     ]
    }
   ],
   "source": [
    "processor = LlavaNextProcessor.from_pretrained(\"llava-hf/llava-v1.6-mistral-7b-hf\")\n",
    "model = LlavaNextForConditionalGeneration.from_pretrained(\"llava-hf/llava-v1.6-mistral-7b-hf\", torch_dtype=torch.float16, low_cpu_mem_usage=True).to(\"cuda:0\")\n",
    "# model.to(\"cuda:0\")"
   ]
  },
  {
   "cell_type": "code",
   "execution_count": 3,
   "metadata": {},
   "outputs": [
    {
     "name": "stderr",
     "output_type": "stream",
     "text": [
      "Setting `pad_token_id` to `eos_token_id`:None for open-end generation.\n",
      "Expanding inputs for image tokens in LLaVa-NeXT should be done in processing. Please add `patch_size` and `vision_feature_select_strategy` to the model's processing config or set directly with `processor.patch_size = {{patch_size}}` and processor.vision_feature_select_strategy = {{vision_feature_select_strategy}}`. Using processors without these attributes in the config is deprecated and will throw an error in v4.47.\n"
     ]
    },
    {
     "name": "stdout",
     "output_type": "stream",
     "text": [
      "[INST]  \n",
      " \n",
      "describe the 2nd picture\n",
      " [/INST] The image appears to be a stylized, colorful illustration of a bear standing in a forest clearing with a group of smaller animals around it. The bear is depicted with a friendly expression, and it's wearing a scarf. The smaller animals are various types, including what looks like a bird, a rabbit, and a squirrel, all of which are standing close to the bear.\n",
      "\n",
      "The background features a gradient of colors, transitioning from a warm orange at the horizon to a cool blue at the top, suggesting either sunrise or sunset. The trees are depicted with a mix of green and blue hues, giving the impression of a serene, possibly magical forest.\n",
      "\n",
      "The image is annotated with various labels and numbers, indicating some sort of data or performance metrics. These labels include \"MMM-Vet,\" \"MMM-Bench,\" \"MMM-TextVQA,\" \"MMM-SQA-IMG,\" \"MMM-SQA-TextVQA,\" \"MMM-SQA-TextVQA,\" \"MMM-SQA-TextVQA,\" \"MMM-SQA-TextVQA,\" \"MMM-SQA-TextVQA,\" \"MMM-SQA-TextVQA,\" \"MMM-SQA-TextVQA,\" \"MMM-SQA-TextVQA,\" \"MMM-SQA-TextVQA,\" \"MMM-SQA-TextVQA,\" \"MMM-SQA-TextVQA,\" \"MMM-SQA-TextVQA,\" \"MMM-SQA-TextVQA,\" \"MMM-SQA-TextVQA,\" \"MMM-SQA-TextVQA,\" \"MMM-SQA-TextVQA,\" \"MMM-SQA-TextVQA,\" \"MMM-SQA-TextVQA,\" \"MMM-SQA-TextVQA,\" \"MMM-SQA-TextVQA,\" \"MMM-SQA-TextVQA,\" \"MMM-SQA-TextVQA,\" \"MMM-SQA-TextVQA,\" \"MMM-SQA-TextVQA,\" \"MMM-SQA-TextVQA,\" \"MMM-SQA-TextVQA,\" \"MMM-SQA-TextVQA,\" \"MMM-SQA-TextVQA,\" \"MMM-SQA-TextVQA,\" \"MMM-SQA-TextVQA,\" \"MMM-SQA-TextVQA,\" \"MMM-SQA-TextVQA,\" \"MMM-SQA-TextVQA,\" \"MMM-SQA-TextVQA,\" \"MMM-SQA-TextVQA,\" \"MMM-SQA-TextVQA,\" \"MMM-SQA-TextVQA,\" \"MMM-SQA-TextVQA,\" \"MMM-SQA-TextVQA,\" \"MMM-SQA-TextVQA,\" \"MMM-SQA-TextVQA,\" \"MMM-SQA-TextVQA,\" \"MMM-SQA-TextVQA,\" \"MMM-SQA-TextVQA,\" \"MMM-SQA-TextVQA,\" \"MMM-SQA-TextVQA,\" \"MMM-SQA-TextVQA,\" \"MMM-SQA-TextVQA,\" \"MMM-SQA-TextVQA,\" \"MMM-SQA-TextVQA,\" \"MMM-SQA-TextVQA,\" \"MMM-SQA-TextVQA,\" \"MMM-SQA-TextVQA,\" \"MMM-SQA-TextVQA,\" \"MMM-SQA-TextVQA,\" \"MMM-SQA-TextVQA,\" \"MMM-SQA-TextVQA,\" \"MMM-SQA-TextVQA,\" \"MMM-SQA-TextVQA,\" \"MMM-SQA-TextVQA,\" \"MMM-SQA-TextVQA,\" \"MMM\n"
     ]
    }
   ],
   "source": [
    "# prepare image and text prompt, using the appropriate prompt template\n",
    "# url = \"https://github.com/haotian-liu/LLaVA/blob/1a91fc274d7c35a9b50b3cb29c4247ae5837ce39/images/llava_v1_5_radar.jpg?raw=true\"\n",
    "# image = Image.open(requests.get(url, stream=True).raw)\n",
    "image1 = Image.open(\"/root/TFVSN/test_images/test4.jpg\")\n",
    "image2 = Image.open(\"/root/TFVSN/test_images/test2.jpg\")\n",
    "\n",
    "# Define a chat histiry and use `apply_chat_template` to get correctly formatted prompt\n",
    "# Each value in \"content\" has to be a list of dicts with types (\"text\", \"image\") \n",
    "conversation = [\n",
    "    {\n",
    "      \"role\": \"user\",\n",
    "      \"content\": [\n",
    "          {\"type\": \"text\", \"text\": \"describe the 2nd picture\\n\"},\n",
    "          {\"type\": \"image\"},\n",
    "          {\"type\": \"image\"},\n",
    "        ],\n",
    "    },\n",
    "]\n",
    "prompt = processor.apply_chat_template(conversation, add_generation_prompt=True)\n",
    "inputs = processor(images=[image1, image2], text=prompt, return_tensors=\"pt\").to(\"cuda:0\")\n",
    "inputs\n",
    "# inputs.pixel_values.shape\n",
    "# autoregressively complete prompt\n",
    "output = model.generate(**inputs, max_new_tokens=1000)\n",
    "\n",
    "print(processor.decode(output[0], skip_special_tokens=True))\n",
    "# output"
   ]
  }
 ],
 "metadata": {
  "kernelspec": {
   "display_name": "myenv",
   "language": "python",
   "name": "python3"
  },
  "language_info": {
   "codemirror_mode": {
    "name": "ipython",
    "version": 3
   },
   "file_extension": ".py",
   "mimetype": "text/x-python",
   "name": "python",
   "nbconvert_exporter": "python",
   "pygments_lexer": "ipython3",
   "version": "3.12.8"
  }
 },
 "nbformat": 4,
 "nbformat_minor": 2
}
