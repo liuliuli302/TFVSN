{
 "cells": [
  {
   "cell_type": "code",
   "execution_count": 1,
   "metadata": {},
   "outputs": [
    {
     "name": "stderr",
     "output_type": "stream",
     "text": [
      "/root/miniconda3/envs/myenv/lib/python3.12/site-packages/tqdm/auto.py:21: TqdmWarning: IProgress not found. Please update jupyter and ipywidgets. See https://ipywidgets.readthedocs.io/en/stable/user_install.html\n",
      "  from .autonotebook import tqdm as notebook_tqdm\n"
     ]
    }
   ],
   "source": [
    "from transformers import LlavaNextProcessor, LlavaNextForConditionalGeneration\n",
    "import torch\n",
    "from PIL import Image\n",
    "import requests\n",
    "from transformers import AutoProcessor, AutoModelForCausalLM"
   ]
  },
  {
   "cell_type": "code",
   "execution_count": 2,
   "metadata": {},
   "outputs": [
    {
     "name": "stderr",
     "output_type": "stream",
     "text": [
      "Some kwargs in processor config are unused and will not have any effect: num_additional_image_tokens. \n",
      "Loading checkpoint shards: 100%|██████████| 4/4 [00:00<00:00, 11.97it/s]\n"
     ]
    }
   ],
   "source": [
    "processor = LlavaNextProcessor.from_pretrained(\"llava-hf/llava-v1.6-mistral-7b-hf\")\n",
    "model = LlavaNextForConditionalGeneration.from_pretrained(\"llava-hf/llava-v1.6-mistral-7b-hf\", torch_dtype=torch.float16, low_cpu_mem_usage=True).to(\"cuda:0\")\n",
    "# model.to(\"cuda:0\")"
   ]
  },
  {
   "cell_type": "code",
   "execution_count": 5,
   "metadata": {},
   "outputs": [
    {
     "name": "stderr",
     "output_type": "stream",
     "text": [
      "Setting `pad_token_id` to `eos_token_id`:None for open-end generation.\n"
     ]
    },
    {
     "name": "stdout",
     "output_type": "stream",
     "text": [
      "[INST]  \n",
      " \n",
      "explain the image given to you.they are different [/INST] The image you've provided appears to be a colorful, stylized illustration of a bear standing in a forest clearing with a group of smaller animals around it. The bear is depicted in a friendly and welcoming manner, with a smile on its face. The smaller animals seem to be enjoying the bear's company, with some of them perched on the bear's back.\n",
      "\n",
      "The illustration is rich in detail and color, with the bear and the animals rendered in a way that suggests a warm and inviting atmosphere. The background features a variety of trees and foliage, which adds to the natural setting of the scene.\n",
      "\n",
      "The image also includes a circular diagram with various labels and numbers around it. This diagram seems to be a chart or graph that is related to the image, possibly indicating some sort of data or performance metrics. The labels include \"MMM-Vet,\" \"MMM-Bench,\" \"MMM-TextVQA,\" \"MMM-SQA-IMG,\" \"MMM-SQA-TextVQA,\" \"MMM-SQA-TextVQA,\" \"MMM-SQA-TextVQA,\" \"MMM-SQA-TextVQA,\" \"MMM-SQA-TextVQA,\" \"MMM-SQA-TextVQA,\" \"MMM-SQA-TextVQA,\" \"MMM-SQA-TextVQA,\" \"MMM-SQA-TextVQA,\" \"MMM-SQA-TextVQA,\" \"MMM-SQA-TextVQA,\" \"MMM-SQA-TextVQA,\" \"MMM-SQA-TextVQA,\" \"MMM-SQA-TextVQA,\" \"MMM-SQA-TextVQA,\" \"MMM-SQA-TextVQA,\" \"MMM-SQA-TextVQA,\" \"MMM-SQA-TextVQA,\" \"MMM-SQA-TextVQA,\" \"MMM-SQA-TextVQA,\" \"MMM-SQA-TextVQA,\" \"MMM-SQA-TextVQA,\" \"MMM-SQA-TextVQA,\" \"MMM-SQA-TextVQA,\" \"MMM-SQA-TextVQA,\" \"MMM-SQA-TextVQA,\" \"MMM-SQA-TextVQA,\" \"MMM-SQA-TextVQA,\" \"MMM-SQA-TextVQA,\" \"MMM-SQA-TextVQA,\" \"MMM-SQA-TextVQA,\" \"MMM-SQA-TextVQA,\" \"MMM-SQA-TextVQA,\" \"MMM-SQA-TextVQA,\" \"MMM-SQA-TextVQA,\" \"MMM-SQA-TextVQA,\" \"MMM-SQA-TextVQA,\" \"MMM-SQA-TextVQA,\" \"MMM-SQA-TextVQA,\" \"MMM-SQA-TextVQA,\" \"MMM-SQA-TextVQA,\" \"MMM-SQA-TextVQA,\" \"MMM-SQA-TextVQA,\" \"MMM-SQA-TextVQA,\" \"MMM-SQA-TextVQA,\" \"MMM-SQA-TextVQA,\" \"MMM-SQA-TextVQA,\" \"MMM-SQA-TextVQA,\" \"MMM-SQA-TextVQA,\" \"MMM-SQA-TextVQA,\" \"MMM-SQA-TextVQA,\" \"MMM-SQA-TextVQA,\" \"MMM-SQA-TextVQA,\" \"MMM-SQA-TextVQA,\" \"MMM-SQA-TextVQA,\" \"MMM-SQA-TextVQA,\" \"MMM-SQA-TextVQA,\" \"MMM-SQA-TextVQA,\" \"MMM-SQA-TextVQA,\" \"MMM-SQA-TextVQA,\" \"MMM-SQA\n"
     ]
    }
   ],
   "source": [
    "# prepare image and text prompt, using the appropriate prompt template\n",
    "# url = \"https://github.com/haotian-liu/LLaVA/blob/1a91fc274d7c35a9b50b3cb29c4247ae5837ce39/images/llava_v1_5_radar.jpg?raw=true\"\n",
    "# image = Image.open(requests.get(url, stream=True).raw)\n",
    "image1 = Image.open(\"/root/TFVSN/test_images/test4.jpg\")\n",
    "image2 = Image.open(\"/root/TFVSN/test_images/test2.jpg\")\n",
    "\n",
    "# Define a chat histiry and use `apply_chat_template` to get correctly formatted prompt\n",
    "# Each value in \"content\" has to be a list of dicts with types (\"text\", \"image\") \n",
    "conversation = [\n",
    "    {\n",
    "      \"role\": \"user\",\n",
    "      \"content\": [\n",
    "          {\"type\": \"text\", \"text\": \"explain the image given to you.they are different\"},\n",
    "          {\"type\": \"image\"},\n",
    "          {\"type\": \"image\"},\n",
    "        ],\n",
    "    },\n",
    "]\n",
    "prompt = processor.apply_chat_template(conversation, add_generation_prompt=True)\n",
    "inputs = processor(images=[image1, image2], text=prompt, return_tensors=\"pt\").to(\"cuda:0\")\n",
    "inputs\n",
    "# inputs.pixel_values.shape\n",
    "# autoregressively complete prompt\n",
    "output = model.generate(**inputs, max_new_tokens=1000)\n",
    "\n",
    "print(processor.decode(output[0], skip_special_tokens=True))\n",
    "# output"
   ]
  }
 ],
 "metadata": {
  "kernelspec": {
   "display_name": "myenv",
   "language": "python",
   "name": "python3"
  },
  "language_info": {
   "codemirror_mode": {
    "name": "ipython",
    "version": 3
   },
   "file_extension": ".py",
   "mimetype": "text/x-python",
   "name": "python",
   "nbconvert_exporter": "python",
   "pygments_lexer": "ipython3",
   "version": "3.12.8"
  }
 },
 "nbformat": 4,
 "nbformat_minor": 2
}
