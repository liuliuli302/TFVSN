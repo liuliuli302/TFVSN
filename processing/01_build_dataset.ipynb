{
 "cells": [
  {
   "cell_type": "code",
   "execution_count": 1,
   "metadata": {},
   "outputs": [],
   "source": [
    "from dataclasses import dataclass\n",
    "import pandas as pd\n",
    "import torch\n",
    "from PIL import Image\n",
    "from torch.utils.data import Dataset\n",
    "from pathlib import Path\n",
    "\n",
    "datasample_example={\n",
    "    \"dataset\":\"SumMe\",\n",
    "    \"video\":\"Air_Force_One\",\n",
    "    \"images\":[\n",
    "        \"video1/frame1.jpg\",\n",
    "        \"video1/frame1.jpg\",\n",
    "        \"video1/frame1.jpg\",\n",
    "        \"video1/frame1.jpg\",\n",
    "        \"video1/frame1.jpg\", \n",
    "    ],\n",
    "    \"conversation\":{\n",
    "      \"role\": \"user\",\n",
    "      \"content\": [\n",
    "          {\"type\": \"text\", \"text\": \"What is shown in this image?\"},\n",
    "          {\"type\": \"image\"},\n",
    "          {\"type\": \"image\"},\n",
    "          {\"type\": \"image\"},\n",
    "          {\"type\": \"image\"},\n",
    "          {\"type\": \"image\"},\n",
    "        ],\n",
    "    },\n",
    "}\n",
    "\n",
    "result_example={\n",
    "    \"dataset\":\"SumMe\",\n",
    "    \"video\":\"Air_Force_One\",\n",
    "    \"images\":[\n",
    "        \"video1/frame1.jpg\",\n",
    "        \"video1/frame1.jpg\",\n",
    "        \"video1/frame1.jpg\",\n",
    "        \"video1/frame1.jpg\",\n",
    "        \"video1/frame1.jpg\", \n",
    "    ],\n",
    "    \"conversation\":{\n",
    "      \"role\": \"user\",\n",
    "      \"content\": [\n",
    "          {\"type\": \"text\", \"text\": \"What is shown in this image?\"},\n",
    "          {\"type\": \"image\"},\n",
    "          {\"type\": \"image\"},\n",
    "          {\"type\": \"image\"},\n",
    "          {\"type\": \"image\"},\n",
    "          {\"type\": \"image\"},\n",
    "        ],\n",
    "    },\n",
    "}\n"
   ]
  },
  {
   "cell_type": "code",
   "execution_count": 14,
   "metadata": {},
   "outputs": [],
   "source": []
  },
  {
   "cell_type": "code",
   "execution_count": 13,
   "metadata": {},
   "outputs": [],
   "source": []
  }
 ],
 "metadata": {
  "kernelspec": {
   "display_name": "base",
   "language": "python",
   "name": "python3"
  },
  "language_info": {
   "codemirror_mode": {
    "name": "ipython",
    "version": 3
   },
   "file_extension": ".py",
   "mimetype": "text/x-python",
   "name": "python",
   "nbconvert_exporter": "python",
   "pygments_lexer": "ipython3",
   "version": "3.12.2"
  }
 },
 "nbformat": 4,
 "nbformat_minor": 2
}
